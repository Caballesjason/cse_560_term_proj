{
 "cells": [
  {
   "cell_type": "code",
   "execution_count": 37,
   "id": "8ecec3c9-8a58-46bc-abf5-2779bfb145e0",
   "metadata": {},
   "outputs": [],
   "source": [
    "import spotipy\n",
    "from spotipy import util\n",
    "from spotipy.oauth2 import SpotifyClientCredentials\n",
    "from get_credentials import get_spotify_credentials\n",
    "import utility_functions"
   ]
  },
  {
   "cell_type": "markdown",
   "id": "372069a2-4a6f-41b9-b766-ab1cfb9fe46b",
   "metadata": {},
   "source": [
    "`client_id` - client ID from your project app on the spotify's app [dashboard](https://developer.spotify.com/dashboard)\n",
    "\n",
    "`client_secret` - client secret from your project app on the spotify's app [dashboard](https://developer.spotify.com/dashboard)\n",
    "\n",
    "`client_credentials_manager` - This create's a client to access the spotify API.  Since no access token was created, only public data may be accessed and no user interaction is available.\n",
    "\n",
    "`spotipy.Spotify` - This is an object to send requests to the spotify API"
   ]
  },
  {
   "cell_type": "code",
   "execution_count": 80,
   "id": "86c18caa-140e-472a-a264-e3d1c20af9c1",
   "metadata": {},
   "outputs": [],
   "source": [
    "\n",
    "client_id='INSERT CLIENT ID'\n",
    "client_secret='INSERT CLIENT SECRET'\n",
    "\n",
    "client_credentials_manager = get_spotify_credentials(client_id=client_id, client_secret=client_secret)\n",
    "\n",
    "# Use this to get access token if needed:\n",
    "    #  get_access_token(as_dict=True)\n",
    "\n",
    "# Spotify object is an object to access spotify's web API!\n",
    "sp = spotipy.Spotify(client_credentials_manager=client_credentials_manager)\n"
   ]
  },
  {
   "cell_type": "markdown",
   "id": "d0b173f9-eba0-4cb4-a32b-9c8cd3f5cccb",
   "metadata": {},
   "source": [
    "`playlist_tracks` - Grabs a spotify playlist as `dict`.  In this case we grab the _global top 50_.  Please call the `items` kvp to get a list of the tracks contained in the playlist"
   ]
  },
  {
   "cell_type": "code",
   "execution_count": 44,
   "id": "50fecc7a-97e6-404b-a092-3cd439572420",
   "metadata": {},
   "outputs": [],
   "source": [
    "# pulls data on the playlist for the top 50 global!\n",
    "top_fifty_global = sp.playlist_tracks(\"https://open.spotify.com/playlist/37i9dQZEVXbMDoHDwVN2tF?si=87c0069b7da449b7\")\n",
    "\n",
    "# This is a list of all tracks in the playlist.  Track objects are dictionaries\n",
    "top_fifty_global_tracks = top_fifty_global.get(\"items\")"
   ]
  },
  {
   "cell_type": "markdown",
   "id": "59c73abb-e185-4138-b08a-e8400cefb1df",
   "metadata": {},
   "source": [
    "Current fields we need for playlist relation:\n",
    "\n",
    "* `track` - The name of the track lol\n",
    "* `trackId` - The track's id\n",
    "* `album` - The name of the album the track is a part of\n",
    "* `albumId` - The album's id\n",
    "* `added_at` - `DateTime` the track was added to the playlist (This might be different from the snap shot date)\n",
    "* `snap_shot_date` - `DateTime` A date that gives a a snapshot of the playlist at the time the playlist was updated (updates daily)\n",
    "    * We might need to add our own date time since were grabbing it on a bi-weekly basis\n",
    "\n",
    "`added_at` is the date the track was added to the playlist, but I'm not sure if that date changes if the track was removed and readded.\n"
   ]
  },
  {
   "cell_type": "code",
   "execution_count": 78,
   "id": "ecf2fdb5-593c-481f-81fd-0a53bdd0fc20",
   "metadata": {},
   "outputs": [
    {
     "data": {
      "text/plain": [
       "dict_keys(['added_at', 'added_by', 'is_local', 'primary_color', 'track', 'video_thumbnail'])"
      ]
     },
     "execution_count": 78,
     "metadata": {},
     "output_type": "execute_result"
    }
   ],
   "source": [
    "track_one = top_fifty_global_tracks[23]\n",
    "track_one.keys()"
   ]
  },
  {
   "cell_type": "markdown",
   "id": "85e84590-9e22-4073-8aff-2a642a141ce4",
   "metadata": {},
   "source": [
    "The track's `added_at` kvp is the `added_at` column\n",
    "\n",
    "The track's `track` kvp is where we get the information of the `trackId`, `track`, `album` columns"
   ]
  },
  {
   "cell_type": "code",
   "execution_count": 79,
   "id": "91a0999a-95ae-491f-b246-27bbc50d763e",
   "metadata": {},
   "outputs": [
    {
     "data": {
      "text/plain": [
       "dict_keys(['album', 'artists', 'available_markets', 'disc_number', 'duration_ms', 'episode', 'explicit', 'external_ids', 'external_urls', 'href', 'id', 'is_local', 'name', 'popularity', 'preview_url', 'track', 'track_number', 'type', 'uri'])"
      ]
     },
     "execution_count": 79,
     "metadata": {},
     "output_type": "execute_result"
    }
   ],
   "source": [
    "track_one.get('track').keys()"
   ]
  },
  {
   "cell_type": "code",
   "execution_count": 76,
   "id": "d13bfa18-f798-4dc5-9304-1a25a81fe95b",
   "metadata": {},
   "outputs": [
    {
     "name": "stdout",
     "output_type": "stream",
     "text": [
      "Track Name: LA FALDA\n",
      "Track Id: 7iUtQNMRB8ZkKC4AmEuCJC\n"
     ]
    }
   ],
   "source": [
    "print(\"Track Name: \" + track_one.get('track').get('name'))\n",
    "print(\"Track Id: \" + track_one.get('track').get('id'))"
   ]
  },
  {
   "cell_type": "markdown",
   "id": "6b4ce77c-066a-490e-a04e-5bbaf82e0b78",
   "metadata": {},
   "source": [
    "the track's `album` kvp is wheere we can get the track's `album` and `albumid`"
   ]
  },
  {
   "cell_type": "code",
   "execution_count": 77,
   "id": "00f66398-be80-455c-8028-b6ca1675fda8",
   "metadata": {},
   "outputs": [
    {
     "name": "stdout",
     "output_type": "stream",
     "text": [
      "Album Name: LVEU: VIVE LA TUYA...NO LA MIA\n",
      "Album Id: 1ZVJTCW5rxpHKNgsNL91J2\n"
     ]
    }
   ],
   "source": [
    "print(\"Album Name: \" + track_one.get('track').get('album').get('name'))\n",
    "print(\"Album Id: \" + track_one.get('track').get('album').get('id'))"
   ]
  }
 ],
 "metadata": {
  "kernelspec": {
   "display_name": "Python 3 (ipykernel)",
   "language": "python",
   "name": "python3"
  },
  "language_info": {
   "codemirror_mode": {
    "name": "ipython",
    "version": 3
   },
   "file_extension": ".py",
   "mimetype": "text/x-python",
   "name": "python",
   "nbconvert_exporter": "python",
   "pygments_lexer": "ipython3",
   "version": "3.11.7"
  }
 },
 "nbformat": 4,
 "nbformat_minor": 5
}
