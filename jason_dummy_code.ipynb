{
 "cells": [
  {
   "cell_type": "markdown",
   "id": "039b5846-c3f4-40e7-a5ed-577c322af19f",
   "metadata": {},
   "source": [
    "# Set up"
   ]
  },
  {
   "cell_type": "code",
   "execution_count": 233,
   "id": "8ecec3c9-8a58-46bc-abf5-2779bfb145e0",
   "metadata": {},
   "outputs": [],
   "source": [
    "# # import spotipy\n",
    "# # from spotipy import util\n",
    "# # from spotipy.oauth2 import SpotifyClientCredentials\n",
    "# from get_spotify_client import get_spotify_obj\n",
    "# from utility_functions import create_connection\n",
    "# from utility_functions  import execute_sql_query\n",
    "# import data_pull_functions as pull"
   ]
  },
  {
   "cell_type": "markdown",
   "id": "372069a2-4a6f-41b9-b766-ab1cfb9fe46b",
   "metadata": {},
   "source": [
    "`client_id`: client ID from your project app on the spotify's app [dashboard](https://developer.spotify.com/dashboard)\n",
    "\n",
    "`client_secret`: client secret from your project app on the spotify's app [dashboard](https://developer.spotify.com/dashboard)\n",
    "\n",
    "`client_credentials_manager`: This create's a client to access the spotify API.  Since no access token was created, only public data may be accessed and no user interaction is available.\n",
    "\n",
    "`spotipy.Spotify`: This is an object to send requests to the spotify API"
   ]
  },
  {
   "cell_type": "markdown",
   "id": "a2f30995-6d99-483f-a9bf-9f2c6a046d2d",
   "metadata": {},
   "source": [
    "## Getting Spotify Client"
   ]
  },
  {
   "cell_type": "code",
   "execution_count": 234,
   "id": "86c18caa-140e-472a-a264-e3d1c20af9c1",
   "metadata": {},
   "outputs": [],
   "source": [
    "# sp = get_spotify_obj()"
   ]
  },
  {
   "cell_type": "markdown",
   "id": "1dca654d-6e4a-48af-b32d-86e7755ef5df",
   "metadata": {},
   "source": [
    "# Get the [top 50 global playist](https://open.spotify.com/playlist/37i9dQZEVXbMDoHDwVN2tF?si=87c0069b7da449b7)"
   ]
  },
  {
   "cell_type": "markdown",
   "id": "d0b173f9-eba0-4cb4-a32b-9c8cd3f5cccb",
   "metadata": {},
   "source": [
    "`playlist_tracks` - Grabs a spotify playlist as `dict`.  In this case, we grab the _global top 50_.  Please call the `items` kvp to get a list of the tracks contained in the playlist"
   ]
  },
  {
   "cell_type": "code",
   "execution_count": 235,
   "id": "50fecc7a-97e6-404b-a092-3cd439572420",
   "metadata": {},
   "outputs": [],
   "source": [
    "# # pulls a playlist object & returns the attribute 'items'. 'items' is the list of track objects for tracks in playlist\n",
    "# top_fifty_global_tracks = sp.playlist_tracks(\"https://open.spotify.com/playlist/37i9dQZEVXbMDoHDwVN2tF?si=87c0069b7da449b7\",\n",
    "#                                       fields='items')\n",
    "\n",
    "\n",
    "# top_fifty_global_tracks = top_fifty_global_tracks.get('items')\n",
    "\n"
   ]
  },
  {
   "cell_type": "markdown",
   "id": "59c73abb-e185-4138-b08a-e8400cefb1df",
   "metadata": {},
   "source": [
    "Current fields we need for playlist relation:\n",
    "\n",
    "* `track_name` - The name of the track lol\n",
    "* `track_id` - The track's id\n",
    "* `album_name` - The name of the album the track is a part of\n",
    "* `album_id` - The album's id\n",
    "* `date_added` - `DateTime` this was loaded this tuple was loaded to our database\n",
    " "
   ]
  },
  {
   "cell_type": "markdown",
   "id": "3c144d10-3f00-4b6a-934c-40d6fa0cb67b",
   "metadata": {},
   "source": [
    "The following is an example of a track in our playlist.  Each track returns as a dict and we want to highlight the various information we oculd get."
   ]
  },
  {
   "cell_type": "code",
   "execution_count": 236,
   "id": "ecf2fdb5-593c-481f-81fd-0a53bdd0fc20",
   "metadata": {},
   "outputs": [],
   "source": [
    "# track_one = top_fifty_global_tracks[1]\n",
    "# track_one.get('track').get('artists')\n",
    "# track_one"
   ]
  },
  {
   "cell_type": "markdown",
   "id": "85e84590-9e22-4073-8aff-2a642a141ce4",
   "metadata": {},
   "source": [
    "The track's `track` kvp is where we get the information of the `track_id`, `track`, `album` columns"
   ]
  },
  {
   "cell_type": "code",
   "execution_count": 237,
   "id": "d13bfa18-f798-4dc5-9304-1a25a81fe95b",
   "metadata": {},
   "outputs": [],
   "source": [
    "# print(\"Track Name: \" + track_one.get('track').get('name'))\n",
    "# print(\"Track Id: \" + track_one.get('track').get('id'))"
   ]
  },
  {
   "cell_type": "markdown",
   "id": "6b4ce77c-066a-490e-a04e-5bbaf82e0b78",
   "metadata": {},
   "source": [
    "the track's `album` kvp is where we can get the track's `album` and `album_id`"
   ]
  },
  {
   "cell_type": "code",
   "execution_count": 238,
   "id": "00f66398-be80-455c-8028-b6ca1675fda8",
   "metadata": {},
   "outputs": [],
   "source": [
    "# print(\"Album Name: \" + track_one.get('track').get('album').get('name'))\n",
    "# print(\"Album Id: \" + track_one.get('track').get('album').get('id'))"
   ]
  },
  {
   "cell_type": "markdown",
   "id": "67714848-333c-4a5d-97a0-7fe2fe5d0977",
   "metadata": {},
   "source": [
    "# Grabbing top 50 tracks in playlist"
   ]
  },
  {
   "cell_type": "markdown",
   "id": "4ecfa388-100c-413c-a5de-8beca5f6ce00",
   "metadata": {},
   "source": [
    "`get_global_top_fifty_data` returns a `list` of `tuple` where each tuple is a track data in the format `(track, track_id, album, album_id)`\n"
   ]
  },
  {
   "cell_type": "code",
   "execution_count": 239,
   "id": "9e617dd8-d6b6-4330-9e61-74f1e653dd0f",
   "metadata": {},
   "outputs": [],
   "source": [
    "# def get_global_top_fifty_song_album_data(sp):\n",
    "#     playlist_id = \"https://open.spotify.com/playlist/37i9dQZEVXbMDoHDwVN2tF?si=87c0069b7da449b7\"\n",
    "#     top_fifty_global = sp.playlist_tracks(playlist_id)\n",
    "\n",
    "# # This is a list of all tracks in the playlist.  Track objects are dictionaries\n",
    "#     top_fifty_global_tracks = top_fifty_global.get(\"items\")\n",
    "\n",
    "#     tuples = []\n",
    "    \n",
    "#     for song in top_fifty_global_tracks:\n",
    "#         added_it = song.get('added_at')\n",
    "        \n",
    "#         song_info = song.get('track')\n",
    "#         track = song_info.get('name')\n",
    "#         track_id = song_info.get('id')\n",
    "    \n",
    "#         album_info = song_info.get('album')\n",
    "#         album = album_info.get('name')\n",
    "#         album_id = album_info.get('id')\n",
    "\n",
    "#         date_loaded = str(date.today())\n",
    "    \n",
    "#         row = (track, track_id, album, album_id, date_loaded)\n",
    "#         tuples.append(row)\n",
    "\n",
    "#     return tuples"
   ]
  },
  {
   "cell_type": "markdown",
   "id": "0a08c444-6039-4f2a-a2d5-88fa2b1b59a2",
   "metadata": {},
   "source": [
    "# Getting track data for track table"
   ]
  },
  {
   "cell_type": "markdown",
   "id": "c879ff55-135d-4c7f-b514-619c1076db6a",
   "metadata": {},
   "source": [
    "`get_all_song_ids` returns a list of all the unique tracks and their ids for the track table as a `dict`."
   ]
  },
  {
   "cell_type": "code",
   "execution_count": 240,
   "id": "fbf0af5a-99af-417d-aa2d-d5d7eaed848d",
   "metadata": {},
   "outputs": [],
   "source": [
    "# def get_all_song_ids(list_of_tracks):\n",
    "#     track_dict = {}\n",
    "#     ids = set()\n",
    "    \n",
    "#     for track in list_of_tracks:\n",
    "#         track_id = track[1]\n",
    "#         track_name = track[0]\n",
    "        \n",
    "#         if track_id not in ids:\n",
    "#             track_dict.update({track_id:track_name})\n",
    "#         else:\n",
    "#             continue\n",
    "#     return track_dict"
   ]
  },
  {
   "cell_type": "code",
   "execution_count": 241,
   "id": "8354ae25-db03-4485-b3cb-fb7121caecc6",
   "metadata": {},
   "outputs": [],
   "source": [
    "#data = get_global_top_fifty_song_album_data(sp)"
   ]
  },
  {
   "cell_type": "markdown",
   "id": "d172792a-e19b-4eed-97ec-732f422ed351",
   "metadata": {},
   "source": [
    "# Grabbing the artist data"
   ]
  },
  {
   "cell_type": "markdown",
   "id": "7bc8f63d-f422-48bc-a25d-042565222482",
   "metadata": {},
   "source": [
    "`get_all_top_fifty_artists` returns the artist that related to all of the songs in a playlist"
   ]
  },
  {
   "cell_type": "code",
   "execution_count": 242,
   "id": "692050cf-e9fa-4908-9acf-bd0e73693e58",
   "metadata": {},
   "outputs": [],
   "source": [
    "# def get_all_top_fifty_artists(sp):\n",
    "#     playlist_id = \"https://open.spotify.com/playlist/37i9dQZEVXbMDoHDwVN2tF?si=87c0069b7da449b7\"\n",
    "#     top_fifty_global = sp.playlist_tracks(playlist_id)\n",
    "#     top_fifty_global_tracks = top_fifty_global.get(\"items\")\n",
    "#     tuples = []\n",
    "\n",
    "#     for track in top_fifty_global_tracks:\n",
    "#         # This is a list of dicts containing where each dict is an artist's information\n",
    "#         track_artists = track.get('track').get('artists')\n",
    "#         track_artists_data = [(artist.get('id'), artist.get('name')) for artist in track_artists]\n",
    "#         tuples += track_artists_data\n",
    "\n",
    "#     unique_artists = set(tuples)\n",
    "#     tuples = list(tuples)\n",
    "#     return tuples"
   ]
  },
  {
   "cell_type": "markdown",
   "id": "f3c1f5fa-9fd7-465b-8c59-9c3b8c11d3c0",
   "metadata": {},
   "source": [
    "# Grabbing the album data"
   ]
  },
  {
   "cell_type": "markdown",
   "id": "2978d9f6-f3f5-464f-a3fd-d81c4f39a0f3",
   "metadata": {},
   "source": [
    "`get_all_top_fifty_albums` returns the artist that related to all of the songs in a playlist"
   ]
  },
  {
   "cell_type": "code",
   "execution_count": 243,
   "id": "24770f97-1c16-4cdc-baba-f9bff2e69bad",
   "metadata": {},
   "outputs": [],
   "source": [
    "# def get_all_top_fifty_albums(sp):\n",
    "#     playlist_id = \"https://open.spotify.com/playlist/37i9dQZEVXbMDoHDwVN2tF?si=87c0069b7da449b7\"\n",
    "#     top_fifty_global = sp.playlist_tracks(playlist_id)\n",
    "#     top_fifty_global_tracks = top_fifty_global.get(\"items\")\n",
    "#     tuples = []\n",
    "\n",
    "#     for track in top_fifty_global_tracks:\n",
    "#         # This is a list of dicts containing where each dict is an artist's information\n",
    "#         album_id = track.get('track').get('album').get('id')\n",
    "#         album_name = track.get('track').get('album').get('name')\n",
    "#         row =(album_id, album_name)\n",
    "#         tuples.append(row)\n",
    "        \n",
    "#     return tuples"
   ]
  },
  {
   "cell_type": "markdown",
   "id": "8f14b027-398f-479d-9aab-e4f373c4a033",
   "metadata": {},
   "source": [
    "# Inserting data"
   ]
  },
  {
   "cell_type": "markdown",
   "id": "b0851cc0-53b7-4644-80c5-9a9e30868106",
   "metadata": {},
   "source": [
    "## Insert Tracks"
   ]
  },
  {
   "cell_type": "code",
   "execution_count": 244,
   "id": "04261e15-a257-4447-abb9-90502aa2f0f2",
   "metadata": {},
   "outputs": [],
   "source": [
    "# def insert_tracks(data, conn):\n",
    "#     get_current_data_query = \"\"\"\n",
    "#     SELECT * FROM Tracks;\n",
    "#     \"\"\"\n",
    "    \n",
    "#     insert_query = \"\"\"\n",
    "#     INSERT INTO Tracks (track_id, track_name) VALUES (?, ?)\n",
    "#     \"\"\"\n",
    "    \n",
    "#     cur = conn.cursor()\n",
    "#     with conn:\n",
    "        \n",
    "#     # grab current data\n",
    "#         current_data = execute_sql_query(get_current_data_query, conn)\n",
    "#         current_data_set = set(current_data)\n",
    "#         data_set = set(data)\n",
    "#         new_data = data_set - current_data_set\n",
    "#         new_rows = list(new_data)\n",
    "#     # to insert data\n",
    "#         cur.executemany(insert_query, new_rows)\n",
    "#         conn.commit()\n",
    "        "
   ]
  },
  {
   "cell_type": "code",
   "execution_count": 245,
   "id": "506202d4-7bc2-42f0-b549-2cc7e0507584",
   "metadata": {},
   "outputs": [],
   "source": [
    "# def insert_albums(data, conn):\n",
    "#     get_current_data_query = \"\"\"\n",
    "#     SELECT * FROM Albums;\n",
    "#     \"\"\"\n",
    "    \n",
    "#     insert_query = \"\"\"\n",
    "#     INSERT INTO Albums (album_id, album_name) VALUES (?, ?)\n",
    "#     \"\"\"\n",
    "    \n",
    "#     cur = conn.cursor()\n",
    "#     with conn:\n",
    "        \n",
    "#     # grab current data\n",
    "#         current_data = execute_sql_query(get_current_data_query, conn)\n",
    "#         current_data_set = set(current_data)\n",
    "#         data_set = set(data)\n",
    "#         new_data = data_set - current_data_set\n",
    "#         new_rows = list(new_data)\n",
    "#     # to insert data\n",
    "#         cur.executemany(insert_query, new_rows)\n",
    "#         conn.commit()"
   ]
  },
  {
   "cell_type": "code",
   "execution_count": 246,
   "id": "0fb3a36c-0baa-44da-a049-4e276d949258",
   "metadata": {},
   "outputs": [],
   "source": [
    "# def insert_artists(data, conn):\n",
    "#     get_current_data_query = \"\"\"\n",
    "#     SELECT * FROM Artists;\n",
    "#     \"\"\"\n",
    "    \n",
    "#     insert_query = \"\"\"\n",
    "#     INSERT INTO Artists (artist_id, artist_name) VALUES (?, ?)\n",
    "#     \"\"\"\n",
    "    \n",
    "#     cur = conn.cursor()\n",
    "#     with conn:\n",
    "        \n",
    "#     # grab current data\n",
    "#         current_data = execute_sql_query(get_current_data_query, conn)\n",
    "#         current_data_set = set(current_data)\n",
    "#         data_set = set(data)\n",
    "#         new_data = data_set - current_data_set\n",
    "#         new_rows = list(new_data)\n",
    "#     # to insert data\n",
    "#         cur.executemany(insert_query, new_rows)\n",
    "#         conn.commit()"
   ]
  },
  {
   "cell_type": "code",
   "execution_count": 247,
   "id": "a573366e-4ce6-477e-bda9-0fe6bcd0ea8a",
   "metadata": {},
   "outputs": [],
   "source": [
    "# def insert_playlist(data, conn):\n",
    "#     get_current_data_query = \"\"\"\n",
    "#     SELECT * FROM Playlist;\n",
    "#     \"\"\"\n",
    "    \n",
    "#     insert_query = \"\"\"\n",
    "#     INSERT INTO Playlist (track_id, track_name, album_id, album_name, date_loaded) VALUES (?, ?, ?, ?, ?)\n",
    "#     \"\"\"\n",
    "    \n",
    "#     cur = conn.cursor()\n",
    "#     with conn:\n",
    "        \n",
    "#     # grab current data\n",
    "#         current_data = execute_sql_query(get_current_data_query, conn)\n",
    "#         current_data_set = set(current_data)\n",
    "#         data_set = set(data)\n",
    "#         new_data = data_set - current_data_set\n",
    "#         new_rows = list(new_data)\n",
    "#     # to insert data\n",
    "#         cur.executemany(insert_query, new_rows)\n",
    "#         conn.commit()"
   ]
  },
  {
   "cell_type": "code",
   "execution_count": 248,
   "id": "b2c8947f-1ed0-416f-a381-42ee2be71214",
   "metadata": {},
   "outputs": [],
   "source": [
    "# conn = create_connection('SpotifyData.db')\n",
    "# playlist = pull.get_global_top_fifty_playlist(sp)\n",
    "# insert_playlist(data=playlist, conn=conn)\n"
   ]
  },
  {
   "cell_type": "markdown",
   "id": "b87b34fc",
   "metadata": {},
   "source": [
    "# New Code\n",
    "Each function below will grab data for a particular table or are helper functions to grab data for a particular table"
   ]
  },
  {
   "cell_type": "markdown",
   "id": "d73c9b82",
   "metadata": {},
   "source": [
    "## Setup"
   ]
  },
  {
   "cell_type": "code",
   "execution_count": 330,
   "id": "6f74f858",
   "metadata": {},
   "outputs": [],
   "source": [
    "# import spotipy\n",
    "# from spotipy import util\n",
    "# from spotipy.oauth2 import SpotifyClientCredentials\n",
    "from get_spotify_client import get_spotify_obj\n",
    "from utility_functions import create_connection\n",
    "from utility_functions  import execute_sql_query\n",
    "import data_pull_functions as pull\n",
    "\n",
    "sp = get_spotify_obj()"
   ]
  },
  {
   "cell_type": "markdown",
   "id": "d75e03a1",
   "metadata": {},
   "source": [
    "## Raw Data Pull"
   ]
  },
  {
   "cell_type": "markdown",
   "id": "98c68d2e",
   "metadata": {},
   "source": [
    "`get_playlist_data` gets the data raw data for a playlist.   The raw data includes the name of the playlists and all information related to tracks, artists, and albums with the exception of audio analysis, market code definitions, key signature encodings, and other audio analysis metrics."
   ]
  },
  {
   "cell_type": "code",
   "execution_count": 331,
   "id": "73232db9",
   "metadata": {},
   "outputs": [],
   "source": [
    "def get_playlist_data(sp, link):\n",
    "    \"\"\"\n",
    "    inputs:\n",
    "        sp: A spotify object\n",
    "        link: url to the spotify playlist\n",
    "    outputs:\n",
    "        dictionary of two keys (name, followers, items)\n",
    "        'name' is the name of the playlist\n",
    "        'items' is a list of attributes to upload in playlists \n",
    "        Track objects are one of those attributes\n",
    "        Track objects are just dict\n",
    "    \"\"\"\n",
    "\n",
    "    playlist = sp.playlist(link)\n",
    "    playlist_name = playlist.get('name')\n",
    "    playlist_items = playlist.get('tracks').get('items')\n",
    "    playlist_data = {'name': playlist_name, 'items': playlist_items}\n",
    "    return playlist_data"
   ]
  },
  {
   "cell_type": "markdown",
   "id": "cfb5dc87",
   "metadata": {},
   "source": [
    "`get_audio_features` gets the audio features of a track or list of tracks"
   ]
  },
  {
   "cell_type": "code",
   "execution_count": 332,
   "id": "b9405a05",
   "metadata": {},
   "outputs": [],
   "source": [
    "def get_audio_features(sp, tracks: list[str]):\n",
    "    \"\"\"\n",
    "    inputs:\n",
    "        sp: A spotify object\n",
    "        tracks: A list of spotify track URIs\n",
    "          to return audio features for (maximum number of tracks to pull data in one call is 100)\n",
    "    outputs:\n",
    "        a dictionary with track IDs as keys and audio features as values\n",
    "    \"\"\"\n",
    "    if len(tracks) > 50:\n",
    "        raise Exception(\"Too many tracks in 'tracks' argument\")\n",
    "    else:\n",
    "        print('I GOT HERE')\n",
    "        data = sp.audio_features(tracks)\n",
    "        updated_data = {}\n",
    "        for feature in data:\n",
    "            track_id = feature.pop(\"id\")\n",
    "            updated_data.update({track_id:feature})\n",
    "        return updated_data"
   ]
  },
  {
   "cell_type": "markdown",
   "id": "af22d27d",
   "metadata": {},
   "source": [
    "## Get Table Data"
   ]
  },
  {
   "cell_type": "code",
   "execution_count": 333,
   "id": "36572721",
   "metadata": {},
   "outputs": [],
   "source": [
    "test_data = get_playlist_data(sp, 'https://open.spotify.com/playlist/37i9dQZEVXbLRQDuF5jeBp?si=778db61081ae460f')"
   ]
  },
  {
   "cell_type": "markdown",
   "id": "b948b00e",
   "metadata": {},
   "source": [
    "`get_playlist_table_data` is a function to get the data for `Playlist`"
   ]
  },
  {
   "cell_type": "code",
   "execution_count": 334,
   "id": "ac8ef7ed",
   "metadata": {},
   "outputs": [],
   "source": [
    "def get_playlist_table_data(playlist_data):\n",
    "    \"\"\"\n",
    "    inputs:\n",
    "        playlist_data: Output of get_playlist_data()\n",
    "            This is the raw data of a playlist\n",
    "    outputs:\n",
    "        table_data:  These are the rows of for Playlist\n",
    "    \"\"\"\n",
    "# Name of playlist\n",
    "    name = playlist_data.get(\"name\")\n",
    "# List of items\n",
    "    items = playlist_data.get(\"items\")\n",
    "    \n",
    "# Table Data\n",
    "    table_data = []\n",
    "    for item in items:\n",
    "    # Get the track obj\n",
    "        track = item.get('track')\n",
    "        \n",
    "        track_id = track.get('id')\n",
    "        track_name = track.get('name')\n",
    "        album_id = track.get('album').get('id')\n",
    "        album_name = track.get('album').get('name')\n",
    "        row = (name, track_id, track_name, album_id, album_name)\n",
    "        table_data.append(row)\n",
    "    return table_data"
   ]
  },
  {
   "cell_type": "markdown",
   "id": "b0cfd8e6",
   "metadata": {},
   "source": [
    "`get_tracks_table_data` gets the data for `Tracks`"
   ]
  },
  {
   "cell_type": "code",
   "execution_count": 349,
   "id": "c2a94e93",
   "metadata": {},
   "outputs": [],
   "source": [
    "def get_tracks_table_data(sp, playlist_data):\n",
    "    \"\"\"\n",
    "    inputs:\n",
    "        sp: A spotify object\n",
    "        playlist_data: Output of get_playlist_data()\n",
    "            This is the raw data of a playlist\n",
    "    outputs:\n",
    "        table_data:  These are the rows of for Tracks\n",
    "    \"\"\"\n",
    "# List of items\n",
    "    items = playlist_data.get(\"items\")\n",
    "    \n",
    "# Table Data\n",
    "    table_data = []\n",
    "\n",
    "    for item in items:\n",
    "    # Get the track obj\n",
    "        track = item.get('track')\n",
    "\n",
    "    # Get track info from track\n",
    "        track_id = track.get('id')\n",
    "        track_name = track.get('name')\n",
    "        album_id = track.get('album').get('id')\n",
    "        duration_ms = track.get('duration_ms')\n",
    "        explicit = track.get('explicit')\n",
    "        current_popularity = track.get('popularity')\n",
    "        row = (track_id, track_name, album_id, duration_ms, explicit, current_popularity)\n",
    "        table_data.append(row)\n",
    "    \n",
    "# Use track_id to pull audio features\n",
    "    get_ids = lambda tup: tup[0]\n",
    "    ids = [get_ids(tup) for tup in table_data]\n",
    "    audio_features = get_audio_features(sp, ids)\n",
    "\n",
    "# update each row in table_data\n",
    "    table_data_length = len(table_data)\n",
    "    for index in range(table_data_length):\n",
    "        row = table_data[index]\n",
    "        track_id = row[0]\n",
    "        track_audio_features = audio_features.get(track_id)\n",
    "        acousticness = track_audio_features.get('acousticness')\n",
    "        danceability = track_audio_features.get('danceability')\n",
    "        instrumentalness = track_audio_features.get('instrumentalness')\n",
    "        key_signature = track_audio_features.get('key')\n",
    "        mode = track_audio_features.get('mode')\n",
    "        tempo = track_audio_features.get('tempo')\n",
    "        time_signature = track_audio_features.get('time_signature')\n",
    "        valence = track_audio_features.get('valence')\n",
    "        audio_feature_attributes = (acousticness, danceability, instrumentalness,\n",
    "                                    key_signature, mode, tempo, time_signature,\n",
    "                                    valence)\n",
    "        updated_row = row + audio_feature_attributes\n",
    "        table_data[index] = updated_row\n",
    "    return table_data"
   ]
  },
  {
   "cell_type": "markdown",
   "id": "4e0a81c9",
   "metadata": {},
   "source": [
    "`get_albums_table_data` gets the data for `Albums`"
   ]
  },
  {
   "cell_type": "code",
   "execution_count": 336,
   "id": "17a313ce",
   "metadata": {},
   "outputs": [],
   "source": [
    "def get_Albums_table_data(playlist_data):\n",
    "    \"\"\"\n",
    "    inputs:\n",
    "        playlist_data: Output of get_playlist_data()\n",
    "            This is the raw data of a playlist\n",
    "    outputs:\n",
    "        table_data:  These are the rows of for Albums\n",
    "    \"\"\"\n",
    "\n",
    "# List of items\n",
    "    items = playlist_data.get(\"items\")\n",
    "    \n",
    "# Table Data\n",
    "# table_data is a dict to ensure return of unique album IDs since multiple tracks from an album\n",
    "# can be in a playlist\n",
    "    table_data = []\n",
    "    found_albums = set()\n",
    "    for item in items:\n",
    "    # Get the track obj\n",
    "        track = item.get('track')\n",
    "        album = track.get('album')\n",
    "        album_id = album.get('id')\n",
    "        album_name = album.get('name')\n",
    "        total_tracks = album.get('total_tracks')\n",
    "        date_released = album.get('release_date')\n",
    "        row = (album_id, album_name, total_tracks, date_released)\n",
    "        \n",
    "        if album_id not in found_albums:\n",
    "            table_data.append(row)\n",
    "            found_albums.add(album_id)\n",
    "        else:\n",
    "            continue\n",
    "\n",
    "    return table_data"
   ]
  },
  {
   "cell_type": "markdown",
   "id": "f2818b91",
   "metadata": {},
   "source": [
    "`get_AlbumArtists_table_data` gets the data for `AlbumArtists`"
   ]
  },
  {
   "cell_type": "code",
   "execution_count": 337,
   "id": "928173a0",
   "metadata": {},
   "outputs": [],
   "source": [
    "def get_AlbumArtists_table_data(playlist_data):\n",
    "    \"\"\"\n",
    "    inputs:\n",
    "        playlist_data: Output of get_playlist_data()\n",
    "            This is the raw data of a playlist\n",
    "    outputs:\n",
    "        table_data:  These are the rows of for AlbumArtists\n",
    "    \"\"\"\n",
    "\n",
    "# List of items\n",
    "    items = playlist_data.get(\"items\")\n",
    "    \n",
    "# Table Data\n",
    "    table_data = []\n",
    "    for item in items:\n",
    "    # Get the track obj\n",
    "        track = item.get('track')\n",
    "        album = track.get('album')\n",
    "        album_id = album.get('id')\n",
    "    \n",
    "    # artists is a list of artist obj\n",
    "        artists = album.get('artists')\n",
    "        artists_ids = [artist.get('id') for artist in artists]\n",
    "        for artist_id in artists_ids:\n",
    "            row = (album_id, artist_id)\n",
    "            table_data.append(row)\n",
    "\n",
    "    table_data = set(table_data)\n",
    "    table_data = list(table_data)\n",
    "    return table_data"
   ]
  },
  {
   "cell_type": "markdown",
   "id": "725d0919",
   "metadata": {},
   "source": [
    "`get_TrackArtists_table_data` gets the data for `TrackArtists`"
   ]
  },
  {
   "cell_type": "code",
   "execution_count": 338,
   "id": "a0af7127",
   "metadata": {},
   "outputs": [],
   "source": [
    "def get_TrackArtists_table_data(playlist_data):\n",
    "    \"\"\"\n",
    "    inputs:\n",
    "        playlist_data: Output of get_playlist_data()\n",
    "            This is the raw data of a playlist\n",
    "    outputs:\n",
    "        table_data:  These are the rows of for TrackArtists\n",
    "    \"\"\"\n",
    "\n",
    "# List of items\n",
    "    items = playlist_data.get(\"items\")\n",
    "    \n",
    "# Table Data\n",
    "    table_data = []\n",
    "    for item in items:\n",
    "    # Get the track obj\n",
    "        track = item.get('track')\n",
    "        track_id = track.get('id')\n",
    "        \n",
    "    # artists is a list of artist obj\n",
    "        artists = track.get('artists')\n",
    "        artists_ids = [artist.get('id') for artist in artists]\n",
    "        \n",
    "        for artist_id in artists_ids:\n",
    "            row = (track_id, artist_id)\n",
    "            table_data.append(row)\n",
    "\n",
    "    table_data = set(table_data)\n",
    "    table_data = list(table_data)\n",
    "    return table_data"
   ]
  },
  {
   "cell_type": "markdown",
   "id": "83c82060",
   "metadata": {},
   "source": [
    "`get_TrackAvailableMarkets_table_data` gets the data for `TrackAvailableMarkets`"
   ]
  },
  {
   "cell_type": "code",
   "execution_count": 339,
   "id": "b87abebf",
   "metadata": {},
   "outputs": [],
   "source": [
    "def get_TrackAvailableMarkets_table_data(playlist_data):\n",
    "    \"\"\"\n",
    "    inputs:\n",
    "        playlist_data: Output of get_playlist_data()\n",
    "            This is the raw data of a playlist\n",
    "    outputs:\n",
    "        table_data:  These are the rows of for TrackAvailableMarkets\n",
    "    \"\"\"\n",
    "\n",
    "# List of items\n",
    "    items = playlist_data.get(\"items\")\n",
    "    \n",
    "# Table Data\n",
    "    table_data = []\n",
    "    for item in items:\n",
    "    # Get the track obj\n",
    "        track = item.get('track')\n",
    "        track_id = track.get('id')\n",
    "        available_markets = track.get('available_markets')\n",
    "        \n",
    "        for market in available_markets:\n",
    "            row = (track_id, market)\n",
    "            table_data.append(row)\n",
    "\n",
    "    table_data = set(table_data)\n",
    "    table_data = list(table_data)\n",
    "    return table_data"
   ]
  },
  {
   "cell_type": "markdown",
   "id": "1646e5be",
   "metadata": {},
   "source": [
    "`get_GenreArtists_table_data` gets the data for `GenreArtists`"
   ]
  },
  {
   "cell_type": "code",
   "execution_count": 340,
   "id": "ff70630b",
   "metadata": {},
   "outputs": [],
   "source": [
    "def get_GenreArtists_table_data(sp, playlist_data):\n",
    "    \"\"\"\n",
    "    inputs:\n",
    "        sp: A spotify object\n",
    "        playlist_data: Output of get_playlist_data()\n",
    "        This is the raw data of a playlist\n",
    "    outputs:\n",
    "        table_data:  These are the rows of for GenreArtists\n",
    "    \"\"\"\n",
    "# List of items\n",
    "    items = playlist_data.get(\"items\")\n",
    "   \n",
    "# Table Data\n",
    "    table_data = []\n",
    "\n",
    "# Grab all unique artist ids to get their genre later\n",
    "    unique_artist_ids = []\n",
    "    for item in items:\n",
    "    # Get the track obj\n",
    "        track = item.get('track')\n",
    "\n",
    "    # artists is a list of artist obj\n",
    "        artists = track.get('artists')\n",
    "    # a dictionary of artist ids and their corresponding genres\n",
    "        artist_ids = [artist.get('id') for artist in artists]\n",
    "        unique_artist_ids += artist_ids\n",
    "\n",
    "    unique_artist_ids = set(unique_artist_ids)\n",
    "    unique_artist_ids = list(unique_artist_ids)\n",
    "\n",
    "# artists returns a dictionary with one kvp \"artists\" containing each artist obj\n",
    "    artist_genre_data = sp.artists(unique_artist_ids).get('artists')\n",
    "\n",
    "    for artist_obj in artist_genre_data:\n",
    "        artist_id = artist_obj.get('id')\n",
    "        genres = artist_obj.get('genres')\n",
    "    # create rows for each genre for an artist id\n",
    "        rows = [(artist_id, genre) for genre in genres]\n",
    "        table_data += rows\n",
    "    \n",
    "    table_data = set(table_data)\n",
    "    table_data = list(table_data)\n",
    "    return table_data"
   ]
  },
  {
   "cell_type": "markdown",
   "id": "d74a25f6",
   "metadata": {},
   "source": [
    "`get_Artists_table_data` gets the data for `Artists`"
   ]
  },
  {
   "cell_type": "code",
   "execution_count": 341,
   "id": "e92316b3",
   "metadata": {},
   "outputs": [],
   "source": [
    "def get_Artists_table_data(sp, playlist_data):\n",
    "    \"\"\"\n",
    "    inputs:\n",
    "        sp: A spotify object\n",
    "        playlist_data: Output of get_playlist_data()\n",
    "            This is the raw data of a playlist\n",
    "    outputs:\n",
    "        table_data:  These are the rows of for GenreArtists\n",
    "    \"\"\"\n",
    "# List of items\n",
    "    items = playlist_data.get(\"items\")\n",
    "   \n",
    "# Table Data\n",
    "    table_data = []\n",
    "\n",
    "# Grab all unique artist ids to get their genre later\n",
    "    unique_artist_ids = []\n",
    "    for item in items:\n",
    "    # Get the track obj\n",
    "        track = item.get('track')\n",
    "\n",
    "    # artists is a list of artist obj\n",
    "        artists = track.get('artists')\n",
    "    # a dictionary of artist ids and their corresponding genres\n",
    "        artist_ids = [artist.get('id') for artist in artists]\n",
    "        unique_artist_ids += artist_ids\n",
    "\n",
    "    unique_artist_ids = set(unique_artist_ids)\n",
    "    unique_artist_ids = list(unique_artist_ids)\n",
    "\n",
    "# artists returns a dictionary with one kvp \"artists\" containing each artist obj\n",
    "    artist_genre_data = sp.artists(unique_artist_ids).get('artists')\n",
    "\n",
    "    for artist_obj in artist_genre_data:\n",
    "        artist_id = artist_obj.get('id')\n",
    "        artist_name = artist_obj.get('name')\n",
    "        nbr_of_followers = artist_obj.get('followers').get('total')\n",
    "        popularity = artist_obj.get('popularity')\n",
    "    # create rows for each genre for an artist id\n",
    "        row = (artist_id, artist_name, nbr_of_followers, popularity)\n",
    "        table_data.append(row)\n",
    "    \n",
    "    table_data = set(table_data)\n",
    "    table_data = list(table_data)\n",
    "    return table_data"
   ]
  },
  {
   "cell_type": "code",
   "execution_count": 342,
   "id": "af056e5f",
   "metadata": {},
   "outputs": [
    {
     "name": "stdout",
     "output_type": "stream",
     "text": [
      "Top 50 - Japan\n",
      "Top 50 - Israel\n",
      "Top 50 - USA\n"
     ]
    }
   ],
   "source": [
    "import json\n",
    "bad_line = 1\n",
    "did_i_pull_all_playlists = []\n",
    "with open('countries_top_fifty.txt', \"r\") as file:\n",
    "        for line in file:\n",
    "            spotify_id = 'spotify'\n",
    "            row_split = line.strip(\"\").split(\",\")\n",
    "            link = row_split[1]\n",
    "            playlist = sp.playlist(link)\n",
    "            did_i_pull_all_playlists.append(playlist)\n",
    "            print(playlist.get('name'))\n",
    "            bad_line += 1\n",
    "            if row_split[0] == 'USA':\n",
    "                break\n",
    "\n",
    "with open(\"playlist_sample.json\", \"w\") as outfile: \n",
    "    json.dump(did_i_pull_all_playlists[2].get('tracks').get('items')[0].get('track'), outfile)"
   ]
  },
  {
   "cell_type": "code",
   "execution_count": 343,
   "id": "6ced7f4f",
   "metadata": {},
   "outputs": [],
   "source": [
    "def list_partition(some_list, size):\n",
    "    partition = []\n",
    "    if len(some_list) <= size:\n",
    "        partition.append(some_list)\n",
    "        return(partition)\n",
    "    else:\n",
    "        partition_one = [some_list[ele] for ele in range(size)]\n",
    "        partition.append(partition_one)\n",
    "        partition_two = [some_list[ele] for ele in range(size, len(some_list))]\n",
    "        return partition + list_partition(partition_two, size)\n"
   ]
  },
  {
   "cell_type": "code",
   "execution_count": 355,
   "id": "0b11ac13",
   "metadata": {},
   "outputs": [],
   "source": [
    "\n",
    "test_ids = ['0AjmK0Eai4zGrLaJwPvrDp', '2GxrNKugF82CnoRFbQfzPf', '0mflMxspEfB0VbI1kyLiAv', '3xkHsmpQCBMytMJNiDf3Ii', '3qhlB30KknSejmIvZZLjOD', '17phhZDn6oGtzMe56NuWvj', '7wLShogStyDeZvL0a6daN5', '51ZQ1vr10ffzbwIjDCwqm4', '2uqYupMHANxnwgeiXTZXzd', '3Pbp7cUCx4d3OAkZSCoNvn', '3rUGC1vUpkDG9CZFHMur1t', '59NraMJsLaMCVtwXTSia8i', '2tudvzsrR56uom6smgOcSf', '5uQ7de4EWjb3rkcFxyEOpu', '3U5JVgI2x4rDyHGObzJfNf', '3w0w2T288dec0mgeZZqoNN', '1BxfuPKGuaTgP7aM0Bbdwr', '5Jpz4nv8nA6FIYO5gEyQa2', '6dpLxbF7lfCAnC9QRTjNLK', '6Qb7YsAqH4wWFUMbGsCpap', '4xhsWYTOGcal8zt0J161CU', '1bjeWoagtHmUKputLVyDxQ', '4OMJGnvZfDvsePyCwRGO7X', '19kHhX6f6EfLU7rcO3RqjO', '7aQ1tSYr518KwnE4SVSQbT', '7ueuqvQkKA9k1Pys0hB5br', '5aIVCx5tnk0ntmdiinnYvw', '6tNgRQ0K2NYZ0Rb9l9DzL8', '3dYD57lRAUcMHufyqn9GcI', '6me7F0aaZjwDo6RJ5MrfBD', '003vvx7Niy0yvhvHt4a68B', '1TcF5F10EN17vraisG1gQv', '51eSHglvG1RJXtL3qI5trr', '0LMwmV37RCmBO2so0szAFs', '4tKGFmENO69tZR9ahgZu48', '4KULAymBBJcPRpk1yO4dOG', '3hRV0jL3vUpRrcy398teAU', '1kuGVB7EU95pJObxwvfwKS', '5D34wRmbFS29AjtTOP2QJe', '1VxEaXbIq3xAvqh80xP67w', '1k1Bqnv2R0uJXQN4u6LKYt', '1ACA277B6f46DYCgZW8di3', '2Zo1PcszsT9WQ0ANntJbID', '7jtQIBanIiJOMS6RyCx6jZ', '42VsgItocQwOQC3XWZ8JNA', '50SxWFCvmZCYcpKWPZECES', '6zuPQl2RVqQ4y5nAH61CFC', '6kopmMZiyLmw7h66uXcXR7', '3vkCueOmm7xQDoJ17W1Pm3', '6wf7Yu7cxBSPrRlWeSeK0Q']\n",
    "test_ = get_playlist_data(sp, 'https://open.spotify.com/playlist/37i9dQZEVXbKM896FDX8L1?si=84c205afc9934953')"
   ]
  },
  {
   "cell_type": "code",
   "execution_count": 353,
   "id": "4b5d828a",
   "metadata": {},
   "outputs": [],
   "source": [
    "def get_tracks_table_data(sp, playlist_data):\n",
    "    \"\"\"\n",
    "    inputs:\n",
    "        sp: A spotify object\n",
    "        playlist_data: Output of get_playlist_data()\n",
    "            This is the raw data of a playlist\n",
    "    outputs:\n",
    "        table_data:  These are the rows of for Tracks\n",
    "    \"\"\"\n",
    "# List of items\n",
    "    items = playlist_data.get(\"items\")\n",
    "    \n",
    "# Table Data\n",
    "    table_data = []\n",
    "\n",
    "    for item in items:\n",
    "    # Get the track obj\n",
    "        track = item.get('track')\n",
    "\n",
    "    # Get track info from track\n",
    "        track_id = track.get('id')\n",
    "        track_name = track.get('name')\n",
    "        album_id = track.get('album').get('id')\n",
    "        duration_ms = track.get('duration_ms')\n",
    "        explicit = track.get('explicit')\n",
    "        current_popularity = track.get('popularity')\n",
    "        row = (track_id, track_name, album_id, duration_ms, explicit, current_popularity)\n",
    "        table_data.append(row)\n",
    "    \n",
    "# Use track_id to pull audio features\n",
    "    get_ids = lambda tup: tup[0]\n",
    "    ids = [get_ids(tup) for tup in table_data]\n",
    "    print(len(ids))\n",
    "    audio_features = get_audio_features(sp, ids)\n",
    "# update each row in table_data\n",
    "    table_data_length = len(table_data)\n",
    "    for index in range(table_data_length):\n",
    "        row = table_data[index]\n",
    "        track_id = row[0]\n",
    "        track_audio_features = audio_features.get(track_id)\n",
    "        acousticness = track_audio_features.get('acousticness')\n",
    "        danceability = track_audio_features.get('danceability')\n",
    "        instrumentalness = track_audio_features.get('instrumentalness')\n",
    "        key_signature = track_audio_features.get('key')\n",
    "        mode = track_audio_features.get('mode')\n",
    "        tempo = track_audio_features.get('tempo')\n",
    "        time_signature = track_audio_features.get('time_signature')\n",
    "        valence = track_audio_features.get('valence')\n",
    "        audio_feature_attributes = (acousticness, danceability, instrumentalness,\n",
    "                                    key_signature, mode, tempo, time_signature,\n",
    "                                    valence)\n",
    "        updated_row = row + audio_feature_attributes\n",
    "        table_data[index] = updated_row\n",
    "    return table_data\n",
    "\n"
   ]
  },
  {
   "cell_type": "code",
   "execution_count": 371,
   "id": "9f5a7e1f",
   "metadata": {},
   "outputs": [
    {
     "data": {
      "text/plain": [
       "{'album': {'album_type': 'album',\n",
       "  'artists': [{'external_urls': {'spotify': 'https://open.spotify.com/artist/2FXC3k01G6Gw61bmprjgqS'},\n",
       "    'href': 'https://api.spotify.com/v1/artists/2FXC3k01G6Gw61bmprjgqS',\n",
       "    'id': '2FXC3k01G6Gw61bmprjgqS',\n",
       "    'name': 'Hozier',\n",
       "    'type': 'artist',\n",
       "    'uri': 'spotify:artist:2FXC3k01G6Gw61bmprjgqS'}],\n",
       "  'available_markets': ['AU', 'CA', 'PR', 'US'],\n",
       "  'external_urls': {'spotify': 'https://open.spotify.com/album/1vL2mgGTukkrUxXt0loeTN'},\n",
       "  'href': 'https://api.spotify.com/v1/albums/1vL2mgGTukkrUxXt0loeTN',\n",
       "  'id': '1vL2mgGTukkrUxXt0loeTN',\n",
       "  'images': [{'height': 640,\n",
       "    'url': 'https://i.scdn.co/image/ab67616d0000b2732e8b4358d044b75807e30bf0',\n",
       "    'width': 640},\n",
       "   {'height': 300,\n",
       "    'url': 'https://i.scdn.co/image/ab67616d00001e022e8b4358d044b75807e30bf0',\n",
       "    'width': 300},\n",
       "   {'height': 64,\n",
       "    'url': 'https://i.scdn.co/image/ab67616d000048512e8b4358d044b75807e30bf0',\n",
       "    'width': 64}],\n",
       "  'name': 'Unreal Unearth: Unheard',\n",
       "  'release_date': '2024-03-22',\n",
       "  'release_date_precision': 'day',\n",
       "  'total_tracks': 20,\n",
       "  'type': 'album',\n",
       "  'uri': 'spotify:album:1vL2mgGTukkrUxXt0loeTN'},\n",
       " 'artists': [{'external_urls': {'spotify': 'https://open.spotify.com/artist/2FXC3k01G6Gw61bmprjgqS'},\n",
       "   'href': 'https://api.spotify.com/v1/artists/2FXC3k01G6Gw61bmprjgqS',\n",
       "   'id': '2FXC3k01G6Gw61bmprjgqS',\n",
       "   'name': 'Hozier',\n",
       "   'type': 'artist',\n",
       "   'uri': 'spotify:artist:2FXC3k01G6Gw61bmprjgqS'}],\n",
       " 'available_markets': ['AU', 'CA', 'PR', 'US'],\n",
       " 'disc_number': 1,\n",
       " 'duration_ms': 251424,\n",
       " 'explicit': False,\n",
       " 'external_ids': {'isrc': 'USSM12401865'},\n",
       " 'external_urls': {'spotify': 'https://open.spotify.com/track/0AjmK0Eai4zGrLaJwPvrDp'},\n",
       " 'href': 'https://api.spotify.com/v1/tracks/0AjmK0Eai4zGrLaJwPvrDp',\n",
       " 'id': '0AjmK0Eai4zGrLaJwPvrDp',\n",
       " 'is_local': False,\n",
       " 'name': 'Too Sweet',\n",
       " 'popularity': 84,\n",
       " 'preview_url': 'https://p.scdn.co/mp3-preview/e526daac5ec6c4594ab3760cc48cee835379802d?cid=7800ae1c94e04926af2f73e507708e3e',\n",
       " 'track_number': 1,\n",
       " 'type': 'track',\n",
       " 'uri': 'spotify:track:0AjmK0Eai4zGrLaJwPvrDp'}"
      ]
     },
     "execution_count": 371,
     "metadata": {},
     "output_type": "execute_result"
    }
   ],
   "source": [
    "# get_tracks_table_data(sp, test_)\n",
    "sp.tracks(['0AjmK0Eai4zGrLaJwPvrDp', '2GxrNKugF82CnoRFbQfzPf', '0mflMxspEfB0VbI1kyLiAv', '3xkHsmpQCBMytMJNiDf3Ii', '3qhlB30KknSejmIvZZLjOD', '17phhZDn6oGtzMe56NuWvj', '7wLShogStyDeZvL0a6daN5', '51ZQ1vr10ffzbwIjDCwqm4', '2uqYupMHANxnwgeiXTZXzd', '3Pbp7cUCx4d3OAkZSCoNvn', '3rUGC1vUpkDG9CZFHMur1t', '59NraMJsLaMCVtwXTSia8i', '2tudvzsrR56uom6smgOcSf', '5uQ7de4EWjb3rkcFxyEOpu', '3U5JVgI2x4rDyHGObzJfNf', '3w0w2T288dec0mgeZZqoNN', '1BxfuPKGuaTgP7aM0Bbdwr', '5Jpz4nv8nA6FIYO5gEyQa2', '6dpLxbF7lfCAnC9QRTjNLK', '6Qb7YsAqH4wWFUMbGsCpap', '4xhsWYTOGcal8zt0J161CU', '1bjeWoagtHmUKputLVyDxQ', '4OMJGnvZfDvsePyCwRGO7X', '19kHhX6f6EfLU7rcO3RqjO', '7aQ1tSYr518KwnE4SVSQbT', '7ueuqvQkKA9k1Pys0hB5br', '5aIVCx5tnk0ntmdiinnYvw', '6tNgRQ0K2NYZ0Rb9l9DzL8', '3dYD57lRAUcMHufyqn9GcI', '6me7F0aaZjwDo6RJ5MrfBD', '003vvx7Niy0yvhvHt4a68B', '1TcF5F10EN17vraisG1gQv', '51eSHglvG1RJXtL3qI5trr', '0LMwmV37RCmBO2so0szAFs', '4tKGFmENO69tZR9ahgZu48', '4KULAymBBJcPRpk1yO4dOG', '3hRV0jL3vUpRrcy398teAU', '1kuGVB7EU95pJObxwvfwKS', '5D34wRmbFS29AjtTOP2QJe', '1VxEaXbIq3xAvqh80xP67w', '1k1Bqnv2R0uJXQN4u6LKYt', '1ACA277B6f46DYCgZW8di3', '2Zo1PcszsT9WQ0ANntJbID', '7jtQIBanIiJOMS6RyCx6jZ', '42VsgItocQwOQC3XWZ8JNA', '50SxWFCvmZCYcpKWPZECES', '6zuPQl2RVqQ4y5nAH61CFC', '6kopmMZiyLmw7h66uXcXR7', '3vkCueOmm7xQDoJ17W1Pm3', '6wf7Yu7cxBSPrRlWeSeK0Q']).get('tracks')[0]"
   ]
  },
  {
   "cell_type": "code",
   "execution_count": 372,
   "id": "47952aac",
   "metadata": {},
   "outputs": [
    {
     "name": "stderr",
     "output_type": "stream",
     "text": [
      "Max Retries reached\n"
     ]
    },
    {
     "ename": "SpotifyException",
     "evalue": "http status: 429, code:-1 - /v1/audio-analysis/0AjmK0Eai4zGrLaJwPvrDp:\n Max Retries, reason: too many 429 error responses",
     "output_type": "error",
     "traceback": [
      "\u001b[0;31m---------------------------------------------------------------------------\u001b[0m",
      "\u001b[0;31mMaxRetryError\u001b[0m                             Traceback (most recent call last)",
      "File \u001b[0;32m~/anaconda3/lib/python3.11/site-packages/requests/adapters.py:486\u001b[0m, in \u001b[0;36mHTTPAdapter.send\u001b[0;34m(self, request, stream, timeout, verify, cert, proxies)\u001b[0m\n\u001b[1;32m    485\u001b[0m \u001b[38;5;28;01mtry\u001b[39;00m:\n\u001b[0;32m--> 486\u001b[0m     resp \u001b[38;5;241m=\u001b[39m conn\u001b[38;5;241m.\u001b[39murlopen(\n\u001b[1;32m    487\u001b[0m         method\u001b[38;5;241m=\u001b[39mrequest\u001b[38;5;241m.\u001b[39mmethod,\n\u001b[1;32m    488\u001b[0m         url\u001b[38;5;241m=\u001b[39murl,\n\u001b[1;32m    489\u001b[0m         body\u001b[38;5;241m=\u001b[39mrequest\u001b[38;5;241m.\u001b[39mbody,\n\u001b[1;32m    490\u001b[0m         headers\u001b[38;5;241m=\u001b[39mrequest\u001b[38;5;241m.\u001b[39mheaders,\n\u001b[1;32m    491\u001b[0m         redirect\u001b[38;5;241m=\u001b[39m\u001b[38;5;28;01mFalse\u001b[39;00m,\n\u001b[1;32m    492\u001b[0m         assert_same_host\u001b[38;5;241m=\u001b[39m\u001b[38;5;28;01mFalse\u001b[39;00m,\n\u001b[1;32m    493\u001b[0m         preload_content\u001b[38;5;241m=\u001b[39m\u001b[38;5;28;01mFalse\u001b[39;00m,\n\u001b[1;32m    494\u001b[0m         decode_content\u001b[38;5;241m=\u001b[39m\u001b[38;5;28;01mFalse\u001b[39;00m,\n\u001b[1;32m    495\u001b[0m         retries\u001b[38;5;241m=\u001b[39m\u001b[38;5;28mself\u001b[39m\u001b[38;5;241m.\u001b[39mmax_retries,\n\u001b[1;32m    496\u001b[0m         timeout\u001b[38;5;241m=\u001b[39mtimeout,\n\u001b[1;32m    497\u001b[0m         chunked\u001b[38;5;241m=\u001b[39mchunked,\n\u001b[1;32m    498\u001b[0m     )\n\u001b[1;32m    500\u001b[0m \u001b[38;5;28;01mexcept\u001b[39;00m (ProtocolError, \u001b[38;5;167;01mOSError\u001b[39;00m) \u001b[38;5;28;01mas\u001b[39;00m err:\n",
      "File \u001b[0;32m~/anaconda3/lib/python3.11/site-packages/urllib3/connectionpool.py:889\u001b[0m, in \u001b[0;36mHTTPConnectionPool.urlopen\u001b[0;34m(self, method, url, body, headers, retries, redirect, assert_same_host, timeout, pool_timeout, release_conn, chunked, body_pos, **response_kw)\u001b[0m\n\u001b[1;32m    888\u001b[0m     log\u001b[38;5;241m.\u001b[39mdebug(\u001b[38;5;124m\"\u001b[39m\u001b[38;5;124mRetry: \u001b[39m\u001b[38;5;132;01m%s\u001b[39;00m\u001b[38;5;124m\"\u001b[39m, url)\n\u001b[0;32m--> 889\u001b[0m     \u001b[38;5;28;01mreturn\u001b[39;00m \u001b[38;5;28mself\u001b[39m\u001b[38;5;241m.\u001b[39murlopen(\n\u001b[1;32m    890\u001b[0m         method,\n\u001b[1;32m    891\u001b[0m         url,\n\u001b[1;32m    892\u001b[0m         body,\n\u001b[1;32m    893\u001b[0m         headers,\n\u001b[1;32m    894\u001b[0m         retries\u001b[38;5;241m=\u001b[39mretries,\n\u001b[1;32m    895\u001b[0m         redirect\u001b[38;5;241m=\u001b[39mredirect,\n\u001b[1;32m    896\u001b[0m         assert_same_host\u001b[38;5;241m=\u001b[39massert_same_host,\n\u001b[1;32m    897\u001b[0m         timeout\u001b[38;5;241m=\u001b[39mtimeout,\n\u001b[1;32m    898\u001b[0m         pool_timeout\u001b[38;5;241m=\u001b[39mpool_timeout,\n\u001b[1;32m    899\u001b[0m         release_conn\u001b[38;5;241m=\u001b[39mrelease_conn,\n\u001b[1;32m    900\u001b[0m         chunked\u001b[38;5;241m=\u001b[39mchunked,\n\u001b[1;32m    901\u001b[0m         body_pos\u001b[38;5;241m=\u001b[39mbody_pos,\n\u001b[1;32m    902\u001b[0m         \u001b[38;5;241m*\u001b[39m\u001b[38;5;241m*\u001b[39mresponse_kw\n\u001b[1;32m    903\u001b[0m     )\n\u001b[1;32m    905\u001b[0m \u001b[38;5;28;01mreturn\u001b[39;00m response\n",
      "File \u001b[0;32m~/anaconda3/lib/python3.11/site-packages/urllib3/connectionpool.py:889\u001b[0m, in \u001b[0;36mHTTPConnectionPool.urlopen\u001b[0;34m(self, method, url, body, headers, retries, redirect, assert_same_host, timeout, pool_timeout, release_conn, chunked, body_pos, **response_kw)\u001b[0m\n\u001b[1;32m    888\u001b[0m     log\u001b[38;5;241m.\u001b[39mdebug(\u001b[38;5;124m\"\u001b[39m\u001b[38;5;124mRetry: \u001b[39m\u001b[38;5;132;01m%s\u001b[39;00m\u001b[38;5;124m\"\u001b[39m, url)\n\u001b[0;32m--> 889\u001b[0m     \u001b[38;5;28;01mreturn\u001b[39;00m \u001b[38;5;28mself\u001b[39m\u001b[38;5;241m.\u001b[39murlopen(\n\u001b[1;32m    890\u001b[0m         method,\n\u001b[1;32m    891\u001b[0m         url,\n\u001b[1;32m    892\u001b[0m         body,\n\u001b[1;32m    893\u001b[0m         headers,\n\u001b[1;32m    894\u001b[0m         retries\u001b[38;5;241m=\u001b[39mretries,\n\u001b[1;32m    895\u001b[0m         redirect\u001b[38;5;241m=\u001b[39mredirect,\n\u001b[1;32m    896\u001b[0m         assert_same_host\u001b[38;5;241m=\u001b[39massert_same_host,\n\u001b[1;32m    897\u001b[0m         timeout\u001b[38;5;241m=\u001b[39mtimeout,\n\u001b[1;32m    898\u001b[0m         pool_timeout\u001b[38;5;241m=\u001b[39mpool_timeout,\n\u001b[1;32m    899\u001b[0m         release_conn\u001b[38;5;241m=\u001b[39mrelease_conn,\n\u001b[1;32m    900\u001b[0m         chunked\u001b[38;5;241m=\u001b[39mchunked,\n\u001b[1;32m    901\u001b[0m         body_pos\u001b[38;5;241m=\u001b[39mbody_pos,\n\u001b[1;32m    902\u001b[0m         \u001b[38;5;241m*\u001b[39m\u001b[38;5;241m*\u001b[39mresponse_kw\n\u001b[1;32m    903\u001b[0m     )\n\u001b[1;32m    905\u001b[0m \u001b[38;5;28;01mreturn\u001b[39;00m response\n",
      "File \u001b[0;32m~/anaconda3/lib/python3.11/site-packages/urllib3/connectionpool.py:889\u001b[0m, in \u001b[0;36mHTTPConnectionPool.urlopen\u001b[0;34m(self, method, url, body, headers, retries, redirect, assert_same_host, timeout, pool_timeout, release_conn, chunked, body_pos, **response_kw)\u001b[0m\n\u001b[1;32m    888\u001b[0m     log\u001b[38;5;241m.\u001b[39mdebug(\u001b[38;5;124m\"\u001b[39m\u001b[38;5;124mRetry: \u001b[39m\u001b[38;5;132;01m%s\u001b[39;00m\u001b[38;5;124m\"\u001b[39m, url)\n\u001b[0;32m--> 889\u001b[0m     \u001b[38;5;28;01mreturn\u001b[39;00m \u001b[38;5;28mself\u001b[39m\u001b[38;5;241m.\u001b[39murlopen(\n\u001b[1;32m    890\u001b[0m         method,\n\u001b[1;32m    891\u001b[0m         url,\n\u001b[1;32m    892\u001b[0m         body,\n\u001b[1;32m    893\u001b[0m         headers,\n\u001b[1;32m    894\u001b[0m         retries\u001b[38;5;241m=\u001b[39mretries,\n\u001b[1;32m    895\u001b[0m         redirect\u001b[38;5;241m=\u001b[39mredirect,\n\u001b[1;32m    896\u001b[0m         assert_same_host\u001b[38;5;241m=\u001b[39massert_same_host,\n\u001b[1;32m    897\u001b[0m         timeout\u001b[38;5;241m=\u001b[39mtimeout,\n\u001b[1;32m    898\u001b[0m         pool_timeout\u001b[38;5;241m=\u001b[39mpool_timeout,\n\u001b[1;32m    899\u001b[0m         release_conn\u001b[38;5;241m=\u001b[39mrelease_conn,\n\u001b[1;32m    900\u001b[0m         chunked\u001b[38;5;241m=\u001b[39mchunked,\n\u001b[1;32m    901\u001b[0m         body_pos\u001b[38;5;241m=\u001b[39mbody_pos,\n\u001b[1;32m    902\u001b[0m         \u001b[38;5;241m*\u001b[39m\u001b[38;5;241m*\u001b[39mresponse_kw\n\u001b[1;32m    903\u001b[0m     )\n\u001b[1;32m    905\u001b[0m \u001b[38;5;28;01mreturn\u001b[39;00m response\n",
      "File \u001b[0;32m~/anaconda3/lib/python3.11/site-packages/urllib3/connectionpool.py:879\u001b[0m, in \u001b[0;36mHTTPConnectionPool.urlopen\u001b[0;34m(self, method, url, body, headers, retries, redirect, assert_same_host, timeout, pool_timeout, release_conn, chunked, body_pos, **response_kw)\u001b[0m\n\u001b[1;32m    878\u001b[0m \u001b[38;5;28;01mtry\u001b[39;00m:\n\u001b[0;32m--> 879\u001b[0m     retries \u001b[38;5;241m=\u001b[39m retries\u001b[38;5;241m.\u001b[39mincrement(method, url, response\u001b[38;5;241m=\u001b[39mresponse, _pool\u001b[38;5;241m=\u001b[39m\u001b[38;5;28mself\u001b[39m)\n\u001b[1;32m    880\u001b[0m \u001b[38;5;28;01mexcept\u001b[39;00m MaxRetryError:\n",
      "File \u001b[0;32m~/anaconda3/lib/python3.11/site-packages/urllib3/util/retry.py:592\u001b[0m, in \u001b[0;36mRetry.increment\u001b[0;34m(self, method, url, response, error, _pool, _stacktrace)\u001b[0m\n\u001b[1;32m    591\u001b[0m \u001b[38;5;28;01mif\u001b[39;00m new_retry\u001b[38;5;241m.\u001b[39mis_exhausted():\n\u001b[0;32m--> 592\u001b[0m     \u001b[38;5;28;01mraise\u001b[39;00m MaxRetryError(_pool, url, error \u001b[38;5;129;01mor\u001b[39;00m ResponseError(cause))\n\u001b[1;32m    594\u001b[0m log\u001b[38;5;241m.\u001b[39mdebug(\u001b[38;5;124m\"\u001b[39m\u001b[38;5;124mIncremented Retry for (url=\u001b[39m\u001b[38;5;124m'\u001b[39m\u001b[38;5;132;01m%s\u001b[39;00m\u001b[38;5;124m'\u001b[39m\u001b[38;5;124m): \u001b[39m\u001b[38;5;132;01m%r\u001b[39;00m\u001b[38;5;124m\"\u001b[39m, url, new_retry)\n",
      "\u001b[0;31mMaxRetryError\u001b[0m: HTTPSConnectionPool(host='api.spotify.com', port=443): Max retries exceeded with url: /v1/audio-analysis/0AjmK0Eai4zGrLaJwPvrDp (Caused by ResponseError('too many 429 error responses'))",
      "\nDuring handling of the above exception, another exception occurred:\n",
      "\u001b[0;31mRetryError\u001b[0m                                Traceback (most recent call last)",
      "File \u001b[0;32m~/anaconda3/lib/python3.11/site-packages/spotipy/client.py:266\u001b[0m, in \u001b[0;36mSpotify._internal_call\u001b[0;34m(self, method, url, payload, params)\u001b[0m\n\u001b[1;32m    265\u001b[0m \u001b[38;5;28;01mtry\u001b[39;00m:\n\u001b[0;32m--> 266\u001b[0m     response \u001b[38;5;241m=\u001b[39m \u001b[38;5;28mself\u001b[39m\u001b[38;5;241m.\u001b[39m_session\u001b[38;5;241m.\u001b[39mrequest(\n\u001b[1;32m    267\u001b[0m         method, url, headers\u001b[38;5;241m=\u001b[39mheaders, proxies\u001b[38;5;241m=\u001b[39m\u001b[38;5;28mself\u001b[39m\u001b[38;5;241m.\u001b[39mproxies,\n\u001b[1;32m    268\u001b[0m         timeout\u001b[38;5;241m=\u001b[39m\u001b[38;5;28mself\u001b[39m\u001b[38;5;241m.\u001b[39mrequests_timeout, \u001b[38;5;241m*\u001b[39m\u001b[38;5;241m*\u001b[39margs\n\u001b[1;32m    269\u001b[0m     )\n\u001b[1;32m    271\u001b[0m     response\u001b[38;5;241m.\u001b[39mraise_for_status()\n",
      "File \u001b[0;32m~/anaconda3/lib/python3.11/site-packages/requests/sessions.py:589\u001b[0m, in \u001b[0;36mSession.request\u001b[0;34m(self, method, url, params, data, headers, cookies, files, auth, timeout, allow_redirects, proxies, hooks, stream, verify, cert, json)\u001b[0m\n\u001b[1;32m    588\u001b[0m send_kwargs\u001b[38;5;241m.\u001b[39mupdate(settings)\n\u001b[0;32m--> 589\u001b[0m resp \u001b[38;5;241m=\u001b[39m \u001b[38;5;28mself\u001b[39m\u001b[38;5;241m.\u001b[39msend(prep, \u001b[38;5;241m*\u001b[39m\u001b[38;5;241m*\u001b[39msend_kwargs)\n\u001b[1;32m    591\u001b[0m \u001b[38;5;28;01mreturn\u001b[39;00m resp\n",
      "File \u001b[0;32m~/anaconda3/lib/python3.11/site-packages/requests/sessions.py:703\u001b[0m, in \u001b[0;36mSession.send\u001b[0;34m(self, request, **kwargs)\u001b[0m\n\u001b[1;32m    702\u001b[0m \u001b[38;5;66;03m# Send the request\u001b[39;00m\n\u001b[0;32m--> 703\u001b[0m r \u001b[38;5;241m=\u001b[39m adapter\u001b[38;5;241m.\u001b[39msend(request, \u001b[38;5;241m*\u001b[39m\u001b[38;5;241m*\u001b[39mkwargs)\n\u001b[1;32m    705\u001b[0m \u001b[38;5;66;03m# Total elapsed time of the request (approximately)\u001b[39;00m\n",
      "File \u001b[0;32m~/anaconda3/lib/python3.11/site-packages/requests/adapters.py:510\u001b[0m, in \u001b[0;36mHTTPAdapter.send\u001b[0;34m(self, request, stream, timeout, verify, cert, proxies)\u001b[0m\n\u001b[1;32m    509\u001b[0m \u001b[38;5;28;01mif\u001b[39;00m \u001b[38;5;28misinstance\u001b[39m(e\u001b[38;5;241m.\u001b[39mreason, ResponseError):\n\u001b[0;32m--> 510\u001b[0m     \u001b[38;5;28;01mraise\u001b[39;00m RetryError(e, request\u001b[38;5;241m=\u001b[39mrequest)\n\u001b[1;32m    512\u001b[0m \u001b[38;5;28;01mif\u001b[39;00m \u001b[38;5;28misinstance\u001b[39m(e\u001b[38;5;241m.\u001b[39mreason, _ProxyError):\n",
      "\u001b[0;31mRetryError\u001b[0m: HTTPSConnectionPool(host='api.spotify.com', port=443): Max retries exceeded with url: /v1/audio-analysis/0AjmK0Eai4zGrLaJwPvrDp (Caused by ResponseError('too many 429 error responses'))",
      "\nDuring handling of the above exception, another exception occurred:\n",
      "\u001b[0;31mSpotifyException\u001b[0m                          Traceback (most recent call last)",
      "Cell \u001b[0;32mIn[372], line 1\u001b[0m\n\u001b[0;32m----> 1\u001b[0m sp\u001b[38;5;241m.\u001b[39maudio_analysis(\u001b[38;5;124m'\u001b[39m\u001b[38;5;124m0AjmK0Eai4zGrLaJwPvrDp\u001b[39m\u001b[38;5;124m'\u001b[39m)\n",
      "File \u001b[0;32m~/anaconda3/lib/python3.11/site-packages/spotipy/client.py:1725\u001b[0m, in \u001b[0;36mSpotify.audio_analysis\u001b[0;34m(self, track_id)\u001b[0m\n\u001b[1;32m   1720\u001b[0m \u001b[38;5;250m\u001b[39m\u001b[38;5;124;03m\"\"\" Get audio analysis for a track based upon its Spotify ID\u001b[39;00m\n\u001b[1;32m   1721\u001b[0m \u001b[38;5;124;03m    Parameters:\u001b[39;00m\n\u001b[1;32m   1722\u001b[0m \u001b[38;5;124;03m        - track_id - a track URI, URL or ID\u001b[39;00m\n\u001b[1;32m   1723\u001b[0m \u001b[38;5;124;03m\"\"\"\u001b[39;00m\n\u001b[1;32m   1724\u001b[0m trid \u001b[38;5;241m=\u001b[39m \u001b[38;5;28mself\u001b[39m\u001b[38;5;241m.\u001b[39m_get_id(\u001b[38;5;124m\"\u001b[39m\u001b[38;5;124mtrack\u001b[39m\u001b[38;5;124m\"\u001b[39m, track_id)\n\u001b[0;32m-> 1725\u001b[0m \u001b[38;5;28;01mreturn\u001b[39;00m \u001b[38;5;28mself\u001b[39m\u001b[38;5;241m.\u001b[39m_get(\u001b[38;5;124m\"\u001b[39m\u001b[38;5;124maudio-analysis/\u001b[39m\u001b[38;5;124m\"\u001b[39m \u001b[38;5;241m+\u001b[39m trid)\n",
      "File \u001b[0;32m~/anaconda3/lib/python3.11/site-packages/spotipy/client.py:323\u001b[0m, in \u001b[0;36mSpotify._get\u001b[0;34m(self, url, args, payload, **kwargs)\u001b[0m\n\u001b[1;32m    320\u001b[0m \u001b[38;5;28;01mif\u001b[39;00m args:\n\u001b[1;32m    321\u001b[0m     kwargs\u001b[38;5;241m.\u001b[39mupdate(args)\n\u001b[0;32m--> 323\u001b[0m \u001b[38;5;28;01mreturn\u001b[39;00m \u001b[38;5;28mself\u001b[39m\u001b[38;5;241m.\u001b[39m_internal_call(\u001b[38;5;124m\"\u001b[39m\u001b[38;5;124mGET\u001b[39m\u001b[38;5;124m\"\u001b[39m, url, payload, kwargs)\n",
      "File \u001b[0;32m~/anaconda3/lib/python3.11/site-packages/spotipy/client.py:307\u001b[0m, in \u001b[0;36mSpotify._internal_call\u001b[0;34m(self, method, url, payload, params)\u001b[0m\n\u001b[1;32m    305\u001b[0m     \u001b[38;5;28;01mexcept\u001b[39;00m (\u001b[38;5;167;01mIndexError\u001b[39;00m, \u001b[38;5;167;01mAttributeError\u001b[39;00m):\n\u001b[1;32m    306\u001b[0m         reason \u001b[38;5;241m=\u001b[39m \u001b[38;5;28;01mNone\u001b[39;00m\n\u001b[0;32m--> 307\u001b[0m     \u001b[38;5;28;01mraise\u001b[39;00m SpotifyException(\n\u001b[1;32m    308\u001b[0m         \u001b[38;5;241m429\u001b[39m,\n\u001b[1;32m    309\u001b[0m         \u001b[38;5;241m-\u001b[39m\u001b[38;5;241m1\u001b[39m,\n\u001b[1;32m    310\u001b[0m         \u001b[38;5;124m\"\u001b[39m\u001b[38;5;132;01m%s\u001b[39;00m\u001b[38;5;124m:\u001b[39m\u001b[38;5;130;01m\\n\u001b[39;00m\u001b[38;5;124m \u001b[39m\u001b[38;5;132;01m%s\u001b[39;00m\u001b[38;5;124m\"\u001b[39m \u001b[38;5;241m%\u001b[39m (request\u001b[38;5;241m.\u001b[39mpath_url, \u001b[38;5;124m\"\u001b[39m\u001b[38;5;124mMax Retries\u001b[39m\u001b[38;5;124m\"\u001b[39m),\n\u001b[1;32m    311\u001b[0m         reason\u001b[38;5;241m=\u001b[39mreason\n\u001b[1;32m    312\u001b[0m     )\n\u001b[1;32m    313\u001b[0m \u001b[38;5;28;01mexcept\u001b[39;00m \u001b[38;5;167;01mValueError\u001b[39;00m:\n\u001b[1;32m    314\u001b[0m     results \u001b[38;5;241m=\u001b[39m \u001b[38;5;28;01mNone\u001b[39;00m\n",
      "\u001b[0;31mSpotifyException\u001b[0m: http status: 429, code:-1 - /v1/audio-analysis/0AjmK0Eai4zGrLaJwPvrDp:\n Max Retries, reason: too many 429 error responses"
     ]
    }
   ],
   "source": [
    "sp.audio_analysis('0AjmK0Eai4zGrLaJwPvrDp')"
   ]
  },
  {
   "cell_type": "code",
   "execution_count": null,
   "id": "817b658c",
   "metadata": {},
   "outputs": [],
   "source": []
  }
 ],
 "metadata": {
  "kernelspec": {
   "display_name": "Python 3 (ipykernel)",
   "language": "python",
   "name": "python3"
  },
  "language_info": {
   "codemirror_mode": {
    "name": "ipython",
    "version": 3
   },
   "file_extension": ".py",
   "mimetype": "text/x-python",
   "name": "python",
   "nbconvert_exporter": "python",
   "pygments_lexer": "ipython3",
   "version": "3.11.7"
  }
 },
 "nbformat": 4,
 "nbformat_minor": 5
}
